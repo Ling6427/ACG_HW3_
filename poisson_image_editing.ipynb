{
 "cells": [
  {
   "cell_type": "code",
   "execution_count": 1,
   "metadata": {
    "id": "144DXGxrClTs"
   },
   "outputs": [],
   "source": [
    "import cv2\n",
    "import numpy as np\n",
    "import time\n",
    "from scipy.sparse import linalg \n",
    "from scipy.sparse import lil_matrix \n",
    "from glob import glob\n",
    "import matplotlib.pyplot as plt"
   ]
  },
  {
   "cell_type": "code",
   "execution_count": 2,
   "metadata": {},
   "outputs": [],
   "source": [
    "#確定index在區域之內或之外\n",
    "def in_region(index, mask):\n",
    "    return mask[index] == 1\n",
    "\n",
    "#上下左右index\n",
    "def cruciform(index):\n",
    "    x, y = index\n",
    "    return [(x+1, y), (x-1, y), (x, y+1), (x, y-1)]\n",
    "\n",
    "#確定index有無在邊界上\n",
    "def boundary(index, mask):\n",
    "    if in_region(index, mask) == False:\n",
    "        return False\n",
    "    for p in cruciform(index):\n",
    "        if in_region(p, mask) == False:\n",
    "            return True\n",
    "    return False    \n"
   ]
  },
  {
   "cell_type": "code",
   "execution_count": 3,
   "metadata": {},
   "outputs": [],
   "source": [
    "def pointpos(index, mask):\n",
    "    if in_region(index, mask) == False:\n",
    "        return 2\n",
    "    if boundary(index, mask) == True:\n",
    "        return 1\n",
    "    return 0\n",
    "\n",
    "def laplacian_(src, index):\n",
    "    x, y = index\n",
    "    value = (4 * src[x, y]) - (1 * src[x+1, y]) - (1 * src[x-1, y]) - (1 * src[x, y+1]) - (1 * src[x, y-1])\n",
    "    return value\n",
    "\n",
    "def region_mask(mask):\n",
    "    nonzero = mask.nonzero()\n",
    "    return list(zip(nonzero[0], nonzero[1]))\n",
    "\n",
    "##============create sparse matrix===============##\n",
    "def sparse_mat(p):\n",
    "    num = len(p)  #mask中點的數量\n",
    "    MatA = lil_matrix((num, num))\n",
    "    for i,index in enumerate(p):\n",
    "        MatA[i, i] = 4\n",
    "        for m in cruciform(index):\n",
    "            if m not in p:\n",
    "                continue\n",
    "            j = p.index(m)\n",
    "            MatA[i, j] = -1\n",
    "    return MatA"
   ]
  },
  {
   "cell_type": "code",
   "execution_count": 4,
   "metadata": {},
   "outputs": [],
   "source": [
    "def solver(src, dst, mask):\n",
    "    pointer = region_mask(mask)\n",
    "    num = len(pointer)\n",
    "    \n",
    "##=============create A matrix=================##    \n",
    "    MatA = sparse_mat(pointer)\n",
    "##=============create b matrix=================##\n",
    "    Matb = np.zeros(num)\n",
    "    \n",
    "    for i, index in enumerate(pointer):\n",
    "        Matb[i] = laplacian_(src, index) \n",
    "        \n",
    "        if pointpos(index, mask) == 1:\n",
    "            for p in cruciform(index):\n",
    "                if in_region(p, mask) == False:\n",
    "                    Matb[i] += dst[p]\n",
    "##=============solve x===================##                    \n",
    "    Matx = linalg.cg(MatA, Matb)\n",
    "    copydst = np.copy(dst).astype(int)\n",
    "    \n",
    "    for i, index in enumerate(pointer):\n",
    "        copydst[index] = Matx[0][i]\n",
    "    return copydst    "
   ]
  },
  {
   "cell_type": "code",
   "execution_count": 5,
   "metadata": {},
   "outputs": [
    {
     "name": "stdout",
     "output_type": "stream",
     "text": [
      "Execution time: 1408.78[secs]\n"
     ]
    },
    {
     "data": {
      "text/plain": [
       "True"
      ]
     },
     "execution_count": 5,
     "metadata": {},
     "output_type": "execute_result"
    }
   ],
   "source": [
    "start = time.time()\n",
    "\n",
    "##=============load image =================##\n",
    "\n",
    "imgsrc = cv2.imread(\"img/wsr.png\", cv2.IMREAD_COLOR)\n",
    "imgdst = cv2.imread(\"img/wta.png\", cv2.IMREAD_COLOR)\n",
    "imgmask = cv2.imread(\"img/wma.png\", cv2.IMREAD_GRAYSCALE)\n",
    "\n",
    "#normalize\n",
    "mask = np.atleast_3d(imgmask).astype(np.float) / 255.\n",
    "mask[mask != 1] = 0\n",
    "\n",
    "#one channel \n",
    "mask = mask[:, :, 0]\n",
    "channel = imgsrc.shape[-1]\n",
    "\n",
    "#每個channel都解\n",
    "result_stack = [solver(imgsrc[:, :, i], imgdst[:, :, i], mask) for i in range(channel)]\n",
    "\n",
    "result = cv2.merge(result_stack)\n",
    "\n",
    "\n",
    "end = time.time()\n",
    "\n",
    "print(\"Execution time: {0}[secs]\".format(round(end - start, 2)))\n",
    "cv2.imwrite(\"output/result4.png\", result)\n"
   ]
  },
  {
   "cell_type": "code",
   "execution_count": 19,
   "metadata": {},
   "outputs": [
    {
     "name": "stdout",
     "output_type": "stream",
     "text": [
      "Execution time: 0.53[secs]\n"
     ]
    },
    {
     "data": {
      "text/plain": [
       "True"
      ]
     },
     "execution_count": 19,
     "metadata": {},
     "output_type": "execute_result"
    }
   ],
   "source": [
    "#======================= One ==========================#\n",
    "onestart = time.time()\n",
    "\n",
    "onesrc = cv2.imread(\"img/einsteinSample.bmp\")\n",
    "onemask = cv2.imread(\"img/einsteinMask.bmp\",0)\n",
    "\n",
    "onedst = cv2.inpaint(onesrc, onemask, 3, cv2.INPAINT_TELEA)\n",
    "\n",
    "oneend = time.time()\n",
    "\n",
    "print(\"Execution time: {0}[secs]\".format(round(oneend - onestart, 2)))\n",
    "\n",
    "cv2.imwrite(\"output/oneresult.png\", onedst)"
   ]
  },
  {
   "cell_type": "code",
   "execution_count": null,
   "metadata": {},
   "outputs": [],
   "source": []
  }
 ],
 "metadata": {
  "colab": {
   "name": "poisson_image_editing.ipynb",
   "provenance": []
  },
  "kernelspec": {
   "display_name": "Python 3",
   "language": "python",
   "name": "python3"
  },
  "language_info": {
   "codemirror_mode": {
    "name": "ipython",
    "version": 3
   },
   "file_extension": ".py",
   "mimetype": "text/x-python",
   "name": "python",
   "nbconvert_exporter": "python",
   "pygments_lexer": "ipython3",
   "version": "3.6.8"
  }
 },
 "nbformat": 4,
 "nbformat_minor": 1
}
